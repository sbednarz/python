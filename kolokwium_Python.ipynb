{
 "cells": [
  {
   "cell_type": "markdown",
   "metadata": {
    "id": "nTcRNYfbiq7v"
   },
   "source": [
    "# Kolokwium Python"
   ]
  },
  {
   "cell_type": "markdown",
   "metadata": {
    "id": "ttYEDivGjAU2"
   },
   "source": [
    "### 1. Obliczyć wartość poniższych wyrażeń używając Python (3pkt):\n",
    "\n",
    "a) $$d = \\frac{(a+1)^2+b^3}{c-10};\\ \\ \\ a=10, b=20, c=30$$\n",
    "\n",
    "b) $$d = \\sqrt{log(a+b+c)};\\ \\ \\ a=10, b=20, c=30$$\n",
    "\n",
    "c) $$d = e^{(a+b+c)};\\ \\ \\ a=0.1, b=0.2, c=0.3$$"
   ]
  },
  {
   "cell_type": "code",
   "execution_count": 1,
   "metadata": {
    "id": "kCmVO6iWoZ2B"
   },
   "outputs": [],
   "source": [
    "# rozwiązanie zad. 1"
   ]
  },
  {
   "cell_type": "markdown",
   "metadata": {
    "id": "12vnmcWwoib7"
   },
   "source": [
    "### 2. Wiedząc, że:\n",
    "$$ v1 = [10, 20, 30, 40, 50, 60]$$\n",
    "### obliczyć: sumę elementów i ich wartość średnią (2pkt)."
   ]
  },
  {
   "cell_type": "code",
   "execution_count": 2,
   "metadata": {
    "id": "d0rPNWpTokHw"
   },
   "outputs": [],
   "source": [
    "# rozwiązanie zad. 2"
   ]
  },
  {
   "cell_type": "markdown",
   "metadata": {
    "id": "W3aux4ilo8LP"
   },
   "source": [
    "### 3. Narysować wykres funkcji $y = 1/x^2$ dla $x \\in <-10,10>$ (3pkt)."
   ]
  },
  {
   "cell_type": "code",
   "execution_count": 3,
   "metadata": {
    "id": "Mdio2EtGpSx7"
   },
   "outputs": [],
   "source": [
    "# rozwiązanie zad. 3"
   ]
  },
  {
   "cell_type": "markdown",
   "metadata": {
    "id": "i6hzedu1peQw"
   },
   "source": [
    "### 4. Narysować zależność stężenia ($c$) od czasu ($t$), na podstawie poniższych danych. Na wykresie wyrazić (przeliczyć) czas na min. Podpisać osie wykresu. (4pkt).\n",
    "$$ t (s):  0, 60, 600, 6000, 12000$$\n",
    "$$ c (mol/L):  1.5, 1.49, 1.3, 1.1, 0.8$$\n",
    "\n"
   ]
  },
  {
   "cell_type": "code",
   "execution_count": 4,
   "metadata": {
    "id": "IdsfMH4zrBlx"
   },
   "outputs": [],
   "source": [
    "# rozwiązanie zad. 4"
   ]
  }
 ],
 "metadata": {
  "colab": {
   "provenance": []
  },
  "kernelspec": {
   "display_name": "Python 3 (ipykernel)",
   "language": "python",
   "name": "python3"
  },
  "language_info": {
   "codemirror_mode": {
    "name": "ipython",
    "version": 3
   },
   "file_extension": ".py",
   "mimetype": "text/x-python",
   "name": "python",
   "nbconvert_exporter": "python",
   "pygments_lexer": "ipython3",
   "version": "3.10.12"
  }
 },
 "nbformat": 4,
 "nbformat_minor": 4
}
