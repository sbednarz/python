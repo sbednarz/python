{
 "cells": [
  {
   "cell_type": "code",
   "execution_count": 7,
   "id": "5ff939f4",
   "metadata": {},
   "outputs": [
    {
     "name": "stdout",
     "output_type": "stream",
     "text": [
      "A message.\n"
     ]
    }
   ],
   "source": [
    "# Quick Introduction to Python\n",
    "\n",
    "# A line fragment started with hash sign (#) is a comment\n",
    "# You can explain your code and write here your notes\n",
    "# Anything after the # is ignored by python. \n",
    "# You can also use a comment to \"disable\" or comment out a piece of code:\n",
    "# print \"This won't run.\"\n",
    "\n",
    "print (\"A message.\")  # this is comment, too\n"
   ]
  },
  {
   "cell_type": "code",
   "execution_count": 8,
   "id": "2df711bf",
   "metadata": {},
   "outputs": [
    {
     "name": "stdout",
     "output_type": "stream",
     "text": [
      "4\n",
      "4.56\n",
      "0.34\n",
      "45.23\n"
     ]
    }
   ],
   "source": [
    "# Variables definition:\n",
    "a = 4\n",
    "b = 4.56\n",
    "c = 3.4e-1 # =3.4x10^-1 = 0.34\n",
    "\n",
    "# To show variables content you can use 'print' function:\n",
    "print(a)\n",
    "print(b)\n",
    "print(c)\n",
    "\n",
    "# You can also write:\n",
    "d = 45.23\n",
    "\n",
    "print( d )\n",
    "\n",
    "\n",
    "# Spaces in the middle of a line code are not important for python, but\n",
    "# could make the code more readable by human. Use them.\n",
    "# Please note! Spaces at THE BEGINNING of a line are VERY IMPORTANT for python\n",
    "# This issue will be explained later."
   ]
  },
  {
   "cell_type": "code",
   "execution_count": 10,
   "id": "c542ce40",
   "metadata": {},
   "outputs": [
    {
     "name": "stdout",
     "output_type": "stream",
     "text": [
      "5\n",
      "5\n",
      "8\n",
      "256\n",
      "1.2999999999999998\n"
     ]
    }
   ],
   "source": [
    "# Arithmetic calculations\n",
    "a = 2\n",
    "b = 3\n",
    "\n",
    "print(a+b)\n",
    "\n",
    "c = a + b\n",
    "print(c)\n",
    "\n",
    "d = a + b*a\n",
    "print(d)\n",
    "\n",
    "d = 2**8 # 2 power 8\n",
    "print(d)\n",
    "\n",
    "d = (a + 1.3*a)/a - 1\n",
    "print(d)\n",
    "\n",
    "# Please don't forget about multiply sign (*) and\n",
    "# put braces into your expressions if necessary."
   ]
  },
  {
   "cell_type": "code",
   "execution_count": 12,
   "id": "7202f45a",
   "metadata": {},
   "outputs": [
    {
     "name": "stdout",
     "output_type": "stream",
     "text": [
      "I like\n",
      " Python\n",
      "I like Python\n",
      "Wow!\n",
      "Wow  Python!\n"
     ]
    }
   ],
   "source": [
    "# Variables can contain also text strings\n",
    "a = 'I like'\n",
    "b = ' Python'\n",
    "print(a)\n",
    "print(b)\n",
    "\n",
    "# To join strings just put +\n",
    "c = a+b\n",
    "print(c)\n",
    "\n",
    "# You can print text messages:\n",
    "print('Wow!')\n",
    "print(\"Wow \" + b + \"!\")\n",
    "\n",
    "# Please note quotation marks ' \""
   ]
  },
  {
   "cell_type": "code",
   "execution_count": 14,
   "id": "cd380396",
   "metadata": {},
   "outputs": [
    {
     "name": "stdout",
     "output_type": "stream",
     "text": [
      "n=\n",
      "0.4\n",
      "V=\n",
      "1.6\n",
      "Molar concentration=\n",
      "0.25\n"
     ]
    }
   ],
   "source": [
    "# More complete script to calculate molar concentration (c)\n",
    "# calculations first\n",
    "\n",
    "n = 0.4 # mol <--- a comment as an unit name, just for code clarity\n",
    "V = 1.6 # L\n",
    "c = n/V # mol/L\n",
    "\n",
    "# print a report\n",
    "print('n=')\n",
    "print(n)\n",
    "\n",
    "print('V=')\n",
    "print(V)\n",
    "\n",
    "print('Molar concentration=')\n",
    "print(c)"
   ]
  },
  {
   "cell_type": "code",
   "execution_count": 15,
   "id": "4674de0c",
   "metadata": {},
   "outputs": [
    {
     "name": "stdout",
     "output_type": "stream",
     "text": [
      "0.8414709848078965\n",
      "0.5403023058681397\n"
     ]
    }
   ],
   "source": [
    "# Simple Calculations with Python\n",
    "\n",
    "# Importing of whole module and giving alias 'np'\n",
    "# The alias could be any (short) name you wish\n",
    "\n",
    "import numpy as np\n",
    "\n",
    "# or importing one function\n",
    "from numpy import sin\n",
    "\n",
    "# Now you can use mathematical functions:\n",
    "a = sin(1) # function\n",
    "b = np.cos(1) # function call is: the alias - dot - the name\n",
    "print(a)\n",
    "print(b)"
   ]
  },
  {
   "cell_type": "code",
   "execution_count": 16,
   "id": "f62a5b55",
   "metadata": {},
   "outputs": [
    {
     "name": "stdout",
     "output_type": "stream",
     "text": [
      "1.0\n",
      "2.302585092994046\n",
      "1.4142135623730951\n",
      "1.2246467991473532e-16\n"
     ]
    }
   ],
   "source": [
    "import numpy as np\n",
    "\n",
    "# Most important math functions living in numpy module are:\n",
    "\n",
    "print( np.log10(10) ) # logarithm with base 10\n",
    "print( np.log(10) ) # natural logarithm\n",
    "print( np.sqrt(2) ) # square\n",
    "print( np.sin( np.pi ) ) # sin & pi constant\n"
   ]
  },
  {
   "cell_type": "code",
   "execution_count": 18,
   "id": "e63a08e7",
   "metadata": {},
   "outputs": [],
   "source": [
    "# Please note that result of sin(pi) is a very very small value of 1.22...e-16 - in numerical calculations\n",
    "# we called the value 0 (zero)"
   ]
  },
  {
   "cell_type": "code",
   "execution_count": null,
   "id": "d3b5d607",
   "metadata": {},
   "outputs": [],
   "source": []
  }
 ],
 "metadata": {
  "kernelspec": {
   "display_name": "Python 3",
   "language": "python",
   "name": "python3"
  },
  "language_info": {
   "codemirror_mode": {
    "name": "ipython",
    "version": 3
   },
   "file_extension": ".py",
   "mimetype": "text/x-python",
   "name": "python",
   "nbconvert_exporter": "python",
   "pygments_lexer": "ipython3",
   "version": "3.9.1"
  }
 },
 "nbformat": 4,
 "nbformat_minor": 5
}
