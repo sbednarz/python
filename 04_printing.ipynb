{
 "cells": [
  {
   "cell_type": "code",
   "execution_count": 21,
   "id": "11f868ae-a577-428f-bfc4-25c0216613a7",
   "metadata": {},
   "outputs": [
    {
     "name": "stdout",
     "output_type": "stream",
     "text": [
      "x1 is equal to 123.4390, x1 = 123.44, x1 = 1.23e+02\n"
     ]
    }
   ],
   "source": [
    "# numbers formating\n",
    "# 'format' function\n",
    "\n",
    "x1 = 123.439\n",
    "print(\"x1 is equal to {:.4f}, x1 = {:.2f}, x1 = {:.2e}\".format(x1, x1, x1))\n"
   ]
  },
  {
   "cell_type": "code",
   "execution_count": 22,
   "id": "f4a85057-54ef-4e06-9484-58b92c756b41",
   "metadata": {},
   "outputs": [
    {
     "name": "stdout",
     "output_type": "stream",
     "text": [
      "x1 is equal to 123.4390\n",
      "x2 = 12.35\n",
      "x3 = -1.0003e+00\n"
     ]
    }
   ],
   "source": [
    "# pretty printing\n",
    "# \\n = new line\n",
    "# \\t = insert tab\n",
    "\n",
    "x1 = 123.439\n",
    "x2 = 12.34563\n",
    "x3 = -1.0003\n",
    "print(\"x1 is equal to {:.4f}\\nx2 = {:.2f}\\nx3 = {:.4e}\".format(x1, x2, x3))"
   ]
  },
  {
   "cell_type": "code",
   "execution_count": 27,
   "id": "a28507c0-175f-474d-8fd2-d0b5389ecaa7",
   "metadata": {},
   "outputs": [
    {
     "name": "stdout",
     "output_type": "stream",
     "text": [
      "1000 0.00001 -2.33\n",
      "10 0.0001 -2.33\n"
     ]
    }
   ],
   "source": [
    "#1\n",
    "print(\"1000 0.00001 -2.33\")\n",
    "print(\"10 0.0001 -2.33\")\n"
   ]
  },
  {
   "cell_type": "code",
   "execution_count": 28,
   "id": "21e71ffe-75f9-41a3-a9ca-2b64504e6477",
   "metadata": {},
   "outputs": [
    {
     "name": "stdout",
     "output_type": "stream",
     "text": [
      "1000\t0.00001\t-2.33\n",
      "10\t0.0001\t-2.33\n"
     ]
    }
   ],
   "source": [
    "#2 => with TABs\n",
    "print(\"1000\\t0.00001\\t-2.33\")\n",
    "print(\"10\\t0.0001\\t-2.33\")\n"
   ]
  },
  {
   "cell_type": "code",
   "execution_count": null,
   "id": "bd4a2633-e8a9-413d-b5b0-4d8402e3f479",
   "metadata": {},
   "outputs": [],
   "source": []
  }
 ],
 "metadata": {
  "kernelspec": {
   "display_name": "Python 3 (ipykernel)",
   "language": "python",
   "name": "python3"
  },
  "language_info": {
   "codemirror_mode": {
    "name": "ipython",
    "version": 3
   },
   "file_extension": ".py",
   "mimetype": "text/x-python",
   "name": "python",
   "nbconvert_exporter": "python",
   "pygments_lexer": "ipython3",
   "version": "3.7.12"
  }
 },
 "nbformat": 4,
 "nbformat_minor": 5
}
