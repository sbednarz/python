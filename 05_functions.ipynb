{
 "cells": [
  {
   "cell_type": "code",
   "execution_count": 4,
   "id": "6d763b3e-4029-49c3-b247-5daf77b2944c",
   "metadata": {},
   "outputs": [
    {
     "name": "stdout",
     "output_type": "stream",
     "text": [
      "Test\n",
      "Inside myfunction\n"
     ]
    }
   ],
   "source": [
    "# Python functions\n",
    "\n",
    "def myfunction():\n",
    "    print(\"Inside myfunction\")\n",
    "    \n",
    "print(\"Test\")\n",
    "myfunction()"
   ]
  },
  {
   "cell_type": "code",
   "execution_count": null,
   "id": "6eef9e29-4859-4792-b938-e42229aca279",
   "metadata": {},
   "outputs": [],
   "source": []
  },
  {
   "cell_type": "code",
   "execution_count": 9,
   "id": "8198977b-f4a2-4c2f-b0ab-f71deecc7eff",
   "metadata": {},
   "outputs": [
    {
     "name": "stdout",
     "output_type": "stream",
     "text": [
      "Test\n",
      "Inside myfunction, x= 12\n"
     ]
    }
   ],
   "source": [
    "def myfunction(x):\n",
    "    print(\"Inside myfunction, x=\",x)\n",
    "    \n",
    "print(\"Test\")\n",
    "myfunction(12)"
   ]
  },
  {
   "cell_type": "code",
   "execution_count": null,
   "id": "86fd69ad-0164-41d5-98b2-b945d47a93bb",
   "metadata": {},
   "outputs": [],
   "source": []
  },
  {
   "cell_type": "code",
   "execution_count": 12,
   "id": "d9a565db-92cc-4e3b-bc44-9445f27167c5",
   "metadata": {},
   "outputs": [
    {
     "name": "stdout",
     "output_type": "stream",
     "text": [
      "Test\n",
      "Inside myfunction, x=12 y=-1\n"
     ]
    }
   ],
   "source": [
    "def myfunction(x, y):\n",
    "    print(\"Inside myfunction, x={} y={}\".format(x,y))\n",
    "    \n",
    "print(\"Test\")\n",
    "myfunction(12, -1)"
   ]
  },
  {
   "cell_type": "code",
   "execution_count": null,
   "id": "b1585ae0-51f8-41f3-9837-ee362f37d7e0",
   "metadata": {},
   "outputs": [],
   "source": []
  },
  {
   "cell_type": "code",
   "execution_count": 14,
   "id": "1f045c46-ea3d-4c87-83d6-4deb5a6aac4b",
   "metadata": {},
   "outputs": [
    {
     "name": "stdout",
     "output_type": "stream",
     "text": [
      "Test\n",
      "Inside myfunction, x=12 y=-1 a=100\n"
     ]
    },
    {
     "ename": "NameError",
     "evalue": "name 'a' is not defined",
     "output_type": "error",
     "traceback": [
      "\u001b[0;31m---------------------------------------------------------------------------\u001b[0m",
      "\u001b[0;31mNameError\u001b[0m                                 Traceback (most recent call last)",
      "\u001b[0;32m/tmp/ipykernel_204/272878138.py\u001b[0m in \u001b[0;36m<module>\u001b[0;34m\u001b[0m\n\u001b[1;32m      5\u001b[0m \u001b[0mprint\u001b[0m\u001b[0;34m(\u001b[0m\u001b[0;34m\"Test\"\u001b[0m\u001b[0;34m)\u001b[0m\u001b[0;34m\u001b[0m\u001b[0;34m\u001b[0m\u001b[0m\n\u001b[1;32m      6\u001b[0m \u001b[0mmyfunction\u001b[0m\u001b[0;34m(\u001b[0m\u001b[0;36m12\u001b[0m\u001b[0;34m,\u001b[0m \u001b[0;34m-\u001b[0m\u001b[0;36m1\u001b[0m\u001b[0;34m)\u001b[0m\u001b[0;34m\u001b[0m\u001b[0;34m\u001b[0m\u001b[0m\n\u001b[0;32m----> 7\u001b[0;31m \u001b[0mprint\u001b[0m\u001b[0;34m(\u001b[0m\u001b[0ma\u001b[0m\u001b[0;34m)\u001b[0m\u001b[0;34m\u001b[0m\u001b[0;34m\u001b[0m\u001b[0m\n\u001b[0m",
      "\u001b[0;31mNameError\u001b[0m: name 'a' is not defined"
     ]
    }
   ],
   "source": [
    "def myfunction(x, y):\n",
    "    a=100 # local variable\n",
    "    print(\"Inside myfunction, x={} y={} a={}\".format(x,y,a))\n",
    "    \n",
    "print(\"Test\")\n",
    "myfunction(12, -1)\n",
    "print(a)"
   ]
  },
  {
   "cell_type": "code",
   "execution_count": null,
   "id": "071ac599-eb68-47ca-8cdd-a0997b2198b0",
   "metadata": {},
   "outputs": [],
   "source": []
  },
  {
   "cell_type": "code",
   "execution_count": 15,
   "id": "dabab901-1bb1-4485-a83a-c4fcc4ca2f00",
   "metadata": {},
   "outputs": [
    {
     "name": "stdout",
     "output_type": "stream",
     "text": [
      "1 hours is 3600 seconds\n"
     ]
    }
   ],
   "source": [
    "# convert hours to seconds\n",
    "def hr2s(h):\n",
    "    s = 3600*h\n",
    "    return s\n",
    "\n",
    "# lets check:\n",
    "\n",
    "h1 = 1\n",
    "s1 = hr2s(h1)\n",
    "print(\"{} hours is {} seconds\".format(h1, s1)) "
   ]
  },
  {
   "cell_type": "code",
   "execution_count": 18,
   "id": "b0112792-7504-4693-a775-121dc392534e",
   "metadata": {},
   "outputs": [
    {
     "name": "stdout",
     "output_type": "stream",
     "text": [
      "3600\n"
     ]
    }
   ],
   "source": [
    "# or briefly:\n",
    "print(hr2s(1))"
   ]
  },
  {
   "cell_type": "code",
   "execution_count": null,
   "id": "9a6b68d5-983a-446c-9645-82df3a6369b1",
   "metadata": {},
   "outputs": [],
   "source": []
  },
  {
   "cell_type": "code",
   "execution_count": 19,
   "id": "e1bf6884-173f-40dd-b61c-16357a39be1f",
   "metadata": {},
   "outputs": [],
   "source": [
    "# TODO\n",
    "# To implement function calculating molar conc based on 'n' and 'V'"
   ]
  },
  {
   "cell_type": "code",
   "execution_count": null,
   "id": "6b8adb2c-3ba2-471d-8912-3b6f4fb10562",
   "metadata": {},
   "outputs": [],
   "source": [
    "\n"
   ]
  },
  {
   "cell_type": "code",
   "execution_count": 25,
   "id": "2c69762c-736d-4958-8649-b903f9ac672e",
   "metadata": {},
   "outputs": [
    {
     "name": "stdout",
     "output_type": "stream",
     "text": [
      "11\n",
      "100\n"
     ]
    }
   ],
   "source": [
    "# multiple results\n",
    "\n",
    "def complex_calc(x):\n",
    "    return x+1, x*10\n",
    "\n",
    "\n",
    "a, b = complex_calc(10)\n",
    "print(a)\n",
    "print(b)"
   ]
  },
  {
   "cell_type": "code",
   "execution_count": 31,
   "id": "6862abbd-c99d-44ec-9372-30c8237d3bf9",
   "metadata": {},
   "outputs": [
    {
     "name": "stdout",
     "output_type": "stream",
     "text": [
      "a= [1, 2, 3]\n",
      "d= [4, 5]\n",
      "1 2 3\n"
     ]
    }
   ],
   "source": [
    "# A digression: lists in Python\n",
    "\n",
    "a = [1, 2, 3]\n",
    "b = 4\n",
    "c = 5\n",
    "d = [b, c]\n",
    "\n",
    "print(\"a=\",a)\n",
    "print(\"d=\",d)\n",
    "\n",
    "# indices\n",
    "a1 = a[0]\n",
    "a2 = a[1]\n",
    "a3 = a[2]\n",
    "\n",
    "print(a1, a2, a3)"
   ]
  },
  {
   "cell_type": "code",
   "execution_count": 33,
   "id": "e4d6b30d-efdb-4397-878e-f1055abe5bea",
   "metadata": {},
   "outputs": [
    {
     "name": "stdout",
     "output_type": "stream",
     "text": [
      "1 2 3\n"
     ]
    }
   ],
   "source": [
    "# another way:\n",
    "aa1, aa2, aa3 = a\n",
    "print(aa1, aa2, aa3)"
   ]
  },
  {
   "cell_type": "code",
   "execution_count": 34,
   "id": "06910c98-840e-4f3e-87a7-97605bbd3dec",
   "metadata": {},
   "outputs": [
    {
     "name": "stdout",
     "output_type": "stream",
     "text": [
      "(11, 100)\n"
     ]
    }
   ],
   "source": [
    "\n",
    "# multiple results\n",
    "\n",
    "def complex_calc2(x):\n",
    "    return [x+1, x*10] # return a two-element list\n",
    "\n",
    "\n",
    "result = complex_calc(10)\n",
    "print(result)\n"
   ]
  }
 ],
 "metadata": {
  "kernelspec": {
   "display_name": "Python 3 (ipykernel)",
   "language": "python",
   "name": "python3"
  },
  "language_info": {
   "codemirror_mode": {
    "name": "ipython",
    "version": 3
   },
   "file_extension": ".py",
   "mimetype": "text/x-python",
   "name": "python",
   "nbconvert_exporter": "python",
   "pygments_lexer": "ipython3",
   "version": "3.7.12"
  }
 },
 "nbformat": 4,
 "nbformat_minor": 5
}
