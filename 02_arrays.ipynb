{
 "cells": [
  {
   "cell_type": "code",
   "execution_count": 1,
   "id": "9c3e9bca",
   "metadata": {},
   "outputs": [
    {
     "name": "stdout",
     "output_type": "stream",
     "text": [
      "[2 4 6]\n",
      "2\n",
      "4\n",
      "6\n",
      "sum of elements\n",
      "12\n",
      "[4 6 8]\n",
      "[ 4 16 36]\n",
      "[ 6 12 18]\n"
     ]
    }
   ],
   "source": [
    "# Arrays in Python\n",
    "\n",
    "import numpy as np\n",
    "\n",
    "# Lets create a small one-dimensional array - vector:\n",
    "v1 = np.array( [2,4,6] )\n",
    "\n",
    "print(v1) # 3 elements: 2,4,6\n",
    "print( v1[0] ) # first element (index = 0)\n",
    "print( v1[1] ) # first element (index = 1)\n",
    "print( v1[2] ) # first element (index = 2)\n",
    "\n",
    "print('sum of elements')\n",
    "\n",
    "print( v1[0] + v1[1] + v1[2] ) # sum of the vector elements\n",
    "\n",
    "# You can do also some arithmetic operations (element-by-element mode):\n",
    "\n",
    "print( v1+2 )\n",
    "print( v1**2 )\n",
    "v2 = 3*v1\n",
    "print( v2 )"
   ]
  },
  {
   "cell_type": "code",
   "execution_count": 4,
   "id": "e2054d55",
   "metadata": {},
   "outputs": [
    {
     "name": "stdout",
     "output_type": "stream",
     "text": [
      "[0.30103    0.60205999 0.77815125]\n",
      "[2 4 6]\n",
      "[0.30103    0.60205999 0.77815125]\n"
     ]
    }
   ],
   "source": [
    "\n",
    "\n",
    "v1 = np.array( [2,4,6] )\n",
    "\n",
    "# You can apply math functions from NumPy module,\n",
    "# simply pass name of the array (vector) to a function:\n",
    "\n",
    "print( np.log10(v1) ) # log10 of each v1 element\n",
    "\n",
    "# Please note v1 vector is unchanged\n",
    "\n",
    "print(v1)\n",
    "\n",
    "# To save the results you can create new vector:\n",
    "v2 = np.log10(v1)\n",
    "\n",
    "print(v2)\n"
   ]
  },
  {
   "cell_type": "code",
   "execution_count": 6,
   "id": "355b1030",
   "metadata": {},
   "outputs": [
    {
     "name": "stdout",
     "output_type": "stream",
     "text": [
      "[ 0.   2.5  5.   7.5 10. ]\n"
     ]
    }
   ],
   "source": [
    "#Sometimes is useful to create a series of values, to do so, you can use linspace() or arange() functions:\n",
    "\n",
    "\n",
    "v1 = np.linspace(0, 10, 5)\n",
    "# start = 0\n",
    "# end = 10\n",
    "# number of equally spaced values (N) = 5\n",
    "\n",
    "print(v1)\n",
    "\n",
    "\n"
   ]
  },
  {
   "cell_type": "code",
   "execution_count": 11,
   "id": "b2153051",
   "metadata": {},
   "outputs": [
    {
     "name": "stdout",
     "output_type": "stream",
     "text": [
      "v2= [-1.  -0.5  0.   0.5  1. ]\n",
      "v3= [-1.         -0.95918367 -0.91836735 -0.87755102 -0.83673469 -0.79591837\n",
      " -0.75510204 -0.71428571 -0.67346939 -0.63265306 -0.59183673 -0.55102041\n",
      " -0.51020408 -0.46938776 -0.42857143 -0.3877551  -0.34693878 -0.30612245\n",
      " -0.26530612 -0.2244898  -0.18367347 -0.14285714 -0.10204082 -0.06122449\n",
      " -0.02040816  0.02040816  0.06122449  0.10204082  0.14285714  0.18367347\n",
      "  0.2244898   0.26530612  0.30612245  0.34693878  0.3877551   0.42857143\n",
      "  0.46938776  0.51020408  0.55102041  0.59183673  0.63265306  0.67346939\n",
      "  0.71428571  0.75510204  0.79591837  0.83673469  0.87755102  0.91836735\n",
      "  0.95918367  1.        ]\n",
      "v4= [0 5]\n",
      "v5= [0.   0.25 0.5  0.75]\n"
     ]
    }
   ],
   "source": [
    "v2 = np.linspace(-1, 1, 5)\n",
    "# start = 0 end = 10 N = 5\n",
    "print(\"v2=\", v2) # -1 -0.5 0 0.5 1\n",
    "\n",
    "v3 = np.linspace(-1,1) # default N=50\n",
    "print(\"v3=\", v3) # 50 equally spaced values are generated\n",
    "\n",
    "v4 = np.arange(0, 10, 5) # 0 5\n",
    "# start = 0 step = 5 end 10 (not included)\n",
    "print(\"v4=\", v4)\n",
    "\n",
    "v5 = np.arange(0, 1, 0.25) # 0 0.25 0.5 0.75\n",
    "# start = 0 step = 0.25 end 1 (not included)\n",
    "print(\"v5=\", v5)\n",
    "\n",
    "# you should see content of five created vectors v1, v2, v3, v4 and v5 (inside square brackets []):\n"
   ]
  },
  {
   "cell_type": "code",
   "execution_count": 12,
   "id": "b2033620",
   "metadata": {},
   "outputs": [
    {
     "name": "stdout",
     "output_type": "stream",
     "text": [
      "[[10 20]\n",
      " [30 40]\n",
      " [50 60]]\n",
      "10\n",
      "40\n"
     ]
    }
   ],
   "source": [
    "# Creation of array (matrix) 2x3 (2 columns, 3rows):\n",
    "\n",
    "m1 = np.array([[10,20],[30,40],[50,60]])\n",
    "print(m1)\n",
    "\n",
    "# Addressing one element [row_index][column_index]:\n",
    "print( m1[0][0] ) # 10 - a first element - first column & row\n",
    "print( m1[1][1] ) # 40 - a second column & row\n",
    "\n"
   ]
  },
  {
   "cell_type": "code",
   "execution_count": 14,
   "id": "bb286432",
   "metadata": {},
   "outputs": [
    {
     "name": "stdout",
     "output_type": "stream",
     "text": [
      "columns\n",
      "first col: [10 30 50]\n",
      "second col: [20 40 60]\n",
      "rows\n",
      "[10 20]\n",
      "[30 40]\n",
      "[50 60]\n"
     ]
    }
   ],
   "source": [
    "# Addressing selected column (colon means all elements):\n",
    "print('columns')\n",
    "print(\"first col:\", m1[:,0] ) # a first column (vector!)\n",
    "print(\"second col:\", m1[:,1] ) # a second column (vector)\n",
    "\n",
    "# and selected rows:\n",
    "print('rows')\n",
    "print( m1[0,:] ) # a first row (vector)\n",
    "print( m1[1,:] ) # a second row (vector)\n",
    "print( m1[-1,:] ) # the last one (3rd) (also vector)\n"
   ]
  },
  {
   "cell_type": "code",
   "execution_count": null,
   "id": "5fe7799b",
   "metadata": {},
   "outputs": [],
   "source": []
  }
 ],
 "metadata": {
  "kernelspec": {
   "display_name": "Python 3",
   "language": "python",
   "name": "python3"
  },
  "language_info": {
   "codemirror_mode": {
    "name": "ipython",
    "version": 3
   },
   "file_extension": ".py",
   "mimetype": "text/x-python",
   "name": "python",
   "nbconvert_exporter": "python",
   "pygments_lexer": "ipython3",
   "version": "3.9.1"
  }
 },
 "nbformat": 4,
 "nbformat_minor": 5
}
