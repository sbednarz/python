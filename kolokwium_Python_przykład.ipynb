{
  "nbformat": 4,
  "nbformat_minor": 0,
  "metadata": {
    "colab": {
      "provenance": []
    },
    "kernelspec": {
      "name": "python3",
      "display_name": "Python 3"
    },
    "language_info": {
      "name": "python"
    }
  },
  "cells": [
    {
      "cell_type": "code",
      "execution_count": null,
      "metadata": {
        "id": "nTcRNYfbiq7v"
      },
      "outputs": [],
      "source": []
    },
    {
      "cell_type": "markdown",
      "source": [
        "### 1. Obliczyć wartość poniższych wyrażeń uzywając Python:\n",
        "\n",
        "a) $$d = \\frac{a^2+b^3}{c-10};\\ \\ \\ a=10, b=20, c=30$$\n",
        "\n",
        "b) $$d = \\sqrt{-log(a+b+c)};\\ \\ \\ a=10, b=20, c=30$$\n",
        "\n",
        "c) suma liczb naturalnych od 1 do 100\n"
      ],
      "metadata": {
        "id": "ttYEDivGjAU2"
      }
    },
    {
      "cell_type": "code",
      "source": [
        "# rozwiązanie zad. 1"
      ],
      "metadata": {
        "id": "kCmVO6iWoZ2B"
      },
      "execution_count": 1,
      "outputs": []
    },
    {
      "cell_type": "markdown",
      "source": [
        "### 2. Wiedząc, że:\n",
        "$$ v1 = [10, 20, 30, 40, 50]$$\n",
        "### obliczyć: sumę elementów i ich wartość średnią."
      ],
      "metadata": {
        "id": "12vnmcWwoib7"
      }
    },
    {
      "cell_type": "code",
      "source": [
        "# rozwiązanie zad. 2"
      ],
      "metadata": {
        "id": "d0rPNWpTokHw"
      },
      "execution_count": 2,
      "outputs": []
    },
    {
      "cell_type": "markdown",
      "source": [
        "### 3. Narysować wykres funkcji $y = 1/x$ dla $x \\in <0.1,10>$"
      ],
      "metadata": {
        "id": "W3aux4ilo8LP"
      }
    },
    {
      "cell_type": "code",
      "source": [
        "# rozwiązanie zad. 3"
      ],
      "metadata": {
        "id": "Mdio2EtGpSx7"
      },
      "execution_count": 3,
      "outputs": []
    },
    {
      "cell_type": "markdown",
      "source": [
        "### 4. Narysować zależność stężenia ($c$) od czasu ($t$), na podstawie poniższych danych. Na wykresie wyrazić (przeliczyć) czas na h. Podpisać osie wykresu.\n",
        "$$ t (s):  0, 60, 600, 6000, 12000$$\n",
        "$$ c (mol/L):  1.5, 1.49, 1.3, 1.1, 0.8$$\n",
        "\n"
      ],
      "metadata": {
        "id": "i6hzedu1peQw"
      }
    },
    {
      "cell_type": "code",
      "source": [
        "# rozwiązanie zad. 4"
      ],
      "metadata": {
        "id": "IdsfMH4zrBlx"
      },
      "execution_count": 4,
      "outputs": []
    },
    {
      "cell_type": "markdown",
      "source": [
        "### 5. Narysować widma Ramana na podstawie danych: https://github.com/sbednarz/python/raw/master/dane/Raman/02_MAA.txt , wiedząc że jest to wykres zależności intensywności sygnału (CCD Output) od liczby falowej (Wavenumber): a) dla całego zakresu, b) dla zakresu liczby falowej od 1000 do 1800 cm$^{-1}$."
      ],
      "metadata": {
        "id": "ZDFZIq3SrKen"
      }
    },
    {
      "cell_type": "code",
      "source": [],
      "metadata": {
        "id": "4AMkP-rfsu-b"
      },
      "execution_count": null,
      "outputs": []
    }
  ]
}